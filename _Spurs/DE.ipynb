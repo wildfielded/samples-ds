{
 "cells": [
  {
   "cell_type": "markdown",
   "id": "c51059aa",
   "metadata": {},
   "source": [
    "# Data/Feature Engineering #"
   ]
  },
  {
   "cell_type": "code",
   "execution_count": 1,
   "id": "95107624",
   "metadata": {},
   "outputs": [],
   "source": [
    "import pandas as pd"
   ]
  },
  {
   "cell_type": "markdown",
   "id": "50d87c76",
   "metadata": {},
   "source": [
    "### Удаление признака ###"
   ]
  },
  {
   "cell_type": "code",
   "execution_count": null,
   "id": "3b1446c9",
   "metadata": {},
   "outputs": [],
   "source": [
    "data_df.drop('Имя_признака', axis='columns', inplace=True)"
   ]
  },
  {
   "cell_type": "markdown",
   "id": "eddc0773",
   "metadata": {},
   "source": [
    "### Создание нового признака на основе имеющихся ###"
   ]
  },
  {
   "cell_type": "code",
   "execution_count": null,
   "id": "dbbdfd59",
   "metadata": {},
   "outputs": [],
   "source": [
    "import re\n",
    "\n",
    "def get_graduation_year(grad: str) -> int:\n",
    "    '''Извлекает год окончания образования\n",
    "    Arguments:\n",
    "        grad [str] -- Структурированная строка из ячейки признака\n",
    "            \"Образование и ВУЗ\"\n",
    "    Returns:\n",
    "        [int] -- Выпускной год\n",
    "    '''\n",
    "    return int(re.search(r'\\d{4}', grad).group(0))\n",
    "\n",
    "data_df['Год выпуска'] = data_df['Образование и ВУЗ'].apply(get_graduation_year)"
   ]
  },
  {
   "cell_type": "code",
   "execution_count": null,
   "id": "a994220d",
   "metadata": {},
   "outputs": [],
   "source": []
  }
 ],
 "metadata": {
  "kernelspec": {
   "display_name": "Python 3 (ipykernel)",
   "language": "python",
   "name": "python3"
  },
  "language_info": {
   "codemirror_mode": {
    "name": "ipython",
    "version": 3
   },
   "file_extension": ".py",
   "mimetype": "text/x-python",
   "name": "python",
   "nbconvert_exporter": "python",
   "pygments_lexer": "ipython3",
   "version": "3.10.11"
  }
 },
 "nbformat": 4,
 "nbformat_minor": 5
}
