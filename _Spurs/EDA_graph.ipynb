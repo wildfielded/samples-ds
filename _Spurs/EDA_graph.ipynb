{
 "cells": [
  {
   "cell_type": "markdown",
   "id": "c619fb71",
   "metadata": {},
   "source": [
    "# Разведывательный анализ данных (Exploratory Data Analysis) #"
   ]
  },
  {
   "cell_type": "markdown",
   "id": "4b8c5f55-2a2a-4611-91e5-51022a433d8a",
   "metadata": {},
   "source": [
    "## Полезные настройки для графики ##"
   ]
  },
  {
   "cell_type": "code",
   "execution_count": null,
   "id": "7211bc9f-116b-4cca-8d38-e2836dd81c4c",
   "metadata": {},
   "outputs": [],
   "source": [
    "import pandas as pd\n",
    "import matplotlib.pyplot as plt\n",
    "import seaborn as sns\n",
    "import plotly.express as px\n",
    "\n",
    "%matplotlib inline\n",
    "# print(plt.style.available)\n",
    "plt.style.use('seaborn-v0_8-notebook')"
   ]
  },
  {
   "cell_type": "markdown",
   "id": "ae4f9f5f",
   "metadata": {},
   "source": [
    "## Построение разных графиков ##"
   ]
  },
  {
   "cell_type": "markdown",
   "id": "6e5b5850-0449-4e0b-8928-9689c871be28",
   "metadata": {},
   "source": [
    "### Круговые диаграммы ###"
   ]
  },
  {
   "cell_type": "code",
   "execution_count": 5,
   "id": "47cbd80b-7aaf-46cb-bb87-6f66062d8da5",
   "metadata": {},
   "outputs": [
    {
     "data": {
      "image/png": "[encoded data removed]",
      "text/plain": [
       "<Figure size 400x500 with 1 Axes>"
      ]
     },
     "metadata": {},
     "output_type": "display_data"
    }
   ],
   "source": [
    "data1_df = pd.read_csv('data/data1_churn.csv')\n",
    "\n",
    "exited_clients = data1_df[data1_df.Exited == 1].Exited.shape[0]\n",
    "loyal_clients = data1_df.shape[0] - exited_clients\n",
    "\n",
    "loyalty_pic = plt.figure(figsize=(4, 5))\n",
    "axes = loyalty_pic.add_axes([0, 0, 1, 1])\n",
    "axes.pie(\n",
    "    x=[loyal_clients, exited_clients],\n",
    "    labels=['Лояльные клиенты', 'Ушедшие клиенты'],\n",
    "    colors=['green', 'tomato'],\n",
    "    autopct='%.1f%%',\n",
    "    explode=[0, 0.2],\n",
    "    shadow=False,\n",
    "    counterclock=False\n",
    ")\n",
    "axes.set_title('Соотношение лояльных и ушедших клиентов');"
   ]
  },
  {
   "cell_type": "markdown",
   "id": "c568b273-bfff-4dd2-9cf2-43db9144987e",
   "metadata": {},
   "source": [
    "### Гистограмма численности значений признака ###"
   ]
  },
  {
   "cell_type": "code",
   "execution_count": null,
   "id": "b544fa2f-d99c-49bc-832e-0bde181e87ea",
   "metadata": {},
   "outputs": [],
   "source": [
    "import seaborn as sns\n",
    "\n",
    "sns.countplot(\n",
    "    data=data_df,\n",
    "    x='Имя_признака'\n",
    ");"
   ]
  },
  {
   "cell_type": "markdown",
   "id": "e615ba26-cb29-4489-b9dd-4c67b72ca565",
   "metadata": {},
   "source": [
    "### Гистограммы и боксы в разных сочетаниях ###"
   ]
  },
  {
   "cell_type": "code",
   "execution_count": null,
   "id": "a529c9d9-ed00-464a-86d1-a6114786deb0",
   "metadata": {},
   "outputs": [],
   "source": []
  },
  {
   "cell_type": "markdown",
   "id": "a5d0d615",
   "metadata": {},
   "source": [
    "### Q-Q Plot (Квантиль-квантиль график)"
   ]
  },
  {
   "cell_type": "code",
   "execution_count": null,
   "id": "53dd0c60",
   "metadata": {},
   "outputs": [],
   "source": [
    "from matplotlib import pyplot as plt\n",
    "import statsmodels.api as sm\n",
    "from sklearn import datasets\n",
    "dataset = datasets.fetch_california_housing()\n",
    "data = dataset.target    ##### data = Один признак из датасета\n",
    "\n",
    "sm.qqplot(data, line='s')\n",
    "plt.title('Q-Q график\\nдля проверки нормальности')\n",
    "plt.show()"
   ]
  },
  {
   "cell_type": "markdown",
   "id": "f37e4e97",
   "metadata": {},
   "source": [
    "Для нормального распределения отрисованный синий график должен максимально приближен к красной диагонали."
   ]
  },
  {
   "cell_type": "markdown",
   "id": "c2112cc1",
   "metadata": {},
   "source": [
    "### Диаграмма рассеяния ###"
   ]
  },
  {
   "cell_type": "code",
   "execution_count": null,
   "id": "15d6df42",
   "metadata": {},
   "outputs": [],
   "source": [
    "import matplotlib.pyplot as plt\n",
    "import seaborn as sns\n",
    "import warnings\n",
    "warnings.filterwarnings('ignore')\n",
    "%matplotlib inline\n",
    "plt.style.use('seaborn')\n",
    "\n",
    "fig, ax = plt.subplots(figsize=(10, 5))\n",
    "sns.scatterplot(\n",
    "    data=dataset,\n",
    "    x='Glucose',\n",
    "    y='BMI',\n",
    "    hue='Outcome',\n",
    "    palette='seismic',\n",
    "    ax=ax\n",
    ")\n",
    "ax.set_title('Scatter Plot for Glucose vs BMI');"
   ]
  },
  {
   "cell_type": "markdown",
   "id": "13f1adfe",
   "metadata": {},
   "source": [
    "### Матрица корреляции ###"
   ]
  },
  {
   "cell_type": "code",
   "execution_count": null,
   "id": "012b9d3e",
   "metadata": {},
   "outputs": [],
   "source": [
    "import matplotlib.pyplot as plt\n",
    "import seaborn as sns\n",
    "import warnings\n",
    "warnings.filterwarnings('ignore')\n",
    "%matplotlib inline\n",
    "plt.style.use('seaborn')\n",
    "\n",
    "fig, ax = plt.subplots(figsize=(8, 4))\n",
    "sns.heatmap(dataset.corr(), annot=True);"
   ]
  },
  {
   "cell_type": "code",
   "execution_count": null,
   "id": "f55ca62a",
   "metadata": {},
   "outputs": [],
   "source": []
  }
 ],
 "metadata": {
  "kernelspec": {
   "display_name": "Python 3 (ipykernel)",
   "language": "python",
   "name": "python3"
  },
  "language_info": {
   "codemirror_mode": {
    "name": "ipython",
    "version": 3
   },
   "file_extension": ".py",
   "mimetype": "text/x-python",
   "name": "python",
   "nbconvert_exporter": "python",
   "pygments_lexer": "ipython3",
   "version": "3.10.11"
  }
 },
 "nbformat": 4,
 "nbformat_minor": 5
}
