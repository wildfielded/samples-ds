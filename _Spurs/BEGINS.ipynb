{
 "cells": [
  {
   "cell_type": "markdown",
   "id": "c51059aa",
   "metadata": {},
   "source": [
    "# Знакомство #"
   ]
  },
  {
   "cell_type": "code",
   "execution_count": 1,
   "id": "95107624",
   "metadata": {},
   "outputs": [],
   "source": [
    "import pandas as pd"
   ]
  },
  {
   "cell_type": "markdown",
   "id": "50d87c76",
   "metadata": {},
   "source": [
    "### Создание датафрейма ###"
   ]
  },
  {
   "cell_type": "code",
   "execution_count": null,
   "id": "3b1446c9",
   "metadata": {},
   "outputs": [],
   "source": [
    "data_df = pd.read_csv('data/data.csv', sep=';')\n",
    "data_df = pd.read_excel('data/data.xlsx')"
   ]
  },
  {
   "cell_type": "markdown",
   "id": "b8fa90fb",
   "metadata": {},
   "source": [
    "### Предварительный просмотр ###"
   ]
  },
  {
   "cell_type": "code",
   "execution_count": null,
   "id": "c9dc423b",
   "metadata": {},
   "outputs": [],
   "source": [
    "display(data_df)\n",
    "data_df.shape\n",
    "display(data_df.info())\n",
    "display(data_df.head(10))\n",
    "data_df.describe()\n",
    "data_df.describe(include=['object'])"
   ]
  },
  {
   "cell_type": "markdown",
   "id": "eddc0773",
   "metadata": {},
   "source": [
    "### Просмотр чисел пустых значений по признакам ###"
   ]
  },
  {
   "cell_type": "code",
   "execution_count": null,
   "id": "dbbdfd59",
   "metadata": {},
   "outputs": [],
   "source": [
    "data_df.isna().sum(axis='index')\n",
    "\n",
    "for col in list(data_df.columns):\n",
    "    empty_cell_num = data_df[col].isnull().sum()\n",
    "    if empty_cell_num > 0:\n",
    "        print(f'В столбце \\\"{col}\\\" есть {empty_cell_num} пустых значений')"
   ]
  },
  {
   "cell_type": "markdown",
   "id": "733d1cc3",
   "metadata": {},
   "source": [
    "### Число уникальных значений в признаке ###"
   ]
  },
  {
   "cell_type": "code",
   "execution_count": null,
   "id": "a994220d",
   "metadata": {},
   "outputs": [],
   "source": [
    "data_df['Имя_признака'].nunique()"
   ]
  },
  {
   "cell_type": "markdown",
   "id": "e2c07eaf",
   "metadata": {},
   "source": [
    "### Статистика значений в признаке ###"
   ]
  },
  {
   "cell_type": "code",
   "execution_count": null,
   "id": "e754221f",
   "metadata": {},
   "outputs": [],
   "source": [
    "data_df['Имя_признака'].value_counts()"
   ]
  },
  {
   "cell_type": "markdown",
   "id": "94d406cb",
   "metadata": {},
   "source": [
    "### Среднее значение и медиана в числовом признаке ###"
   ]
  },
  {
   "cell_type": "code",
   "execution_count": null,
   "id": "5b122ff1",
   "metadata": {},
   "outputs": [],
   "source": [
    "data_df['Имя_признака'].mean()\n",
    "data_df['Имя_признака'].median()"
   ]
  }
 ],
 "metadata": {
  "kernelspec": {
   "display_name": "Python 3 (ipykernel)",
   "language": "python",
   "name": "python3"
  },
  "language_info": {
   "codemirror_mode": {
    "name": "ipython",
    "version": 3
   },
   "file_extension": ".py",
   "mimetype": "text/x-python",
   "name": "python",
   "nbconvert_exporter": "python",
   "pygments_lexer": "ipython3",
   "version": "3.10.11"
  }
 },
 "nbformat": 4,
 "nbformat_minor": 5
}
