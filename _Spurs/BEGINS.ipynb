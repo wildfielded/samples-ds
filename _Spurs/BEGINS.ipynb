{
 "cells": [
  {
   "cell_type": "markdown",
   "id": "c51059aa",
   "metadata": {},
   "source": [
    "# Знакомство #"
   ]
  },
  {
   "cell_type": "code",
   "execution_count": 1,
   "id": "95107624",
   "metadata": {},
   "outputs": [],
   "source": [
    "import pandas as pd"
   ]
  },
  {
   "cell_type": "markdown",
   "id": "50d87c76",
   "metadata": {},
   "source": [
    "### Создание датафрейма ###"
   ]
  },
  {
   "cell_type": "code",
   "execution_count": null,
   "id": "3b1446c9",
   "metadata": {},
   "outputs": [],
   "source": [
    "data_df = pd.read_excel('data/data.xlsx')\n",
    "\n",
    "display(data_df)\n",
    "display(data_df.info())\n",
    "display(data_df.head(10))"
   ]
  },
  {
   "cell_type": "markdown",
   "id": "eddc0773",
   "metadata": {},
   "source": [
    "### Просмотр чисел пустых значений по признакам ###"
   ]
  },
  {
   "cell_type": "code",
   "execution_count": null,
   "id": "dbbdfd59",
   "metadata": {},
   "outputs": [],
   "source": [
    "data_df.isna().sum(axis='index')"
   ]
  },
  {
   "cell_type": "code",
   "execution_count": null,
   "id": "a994220d",
   "metadata": {},
   "outputs": [],
   "source": []
  }
 ],
 "metadata": {
  "kernelspec": {
   "display_name": "Python 3 (ipykernel)",
   "language": "python",
   "name": "python3"
  },
  "language_info": {
   "codemirror_mode": {
    "name": "ipython",
    "version": 3
   },
   "file_extension": ".py",
   "mimetype": "text/x-python",
   "name": "python",
   "nbconvert_exporter": "python",
   "pygments_lexer": "ipython3",
   "version": "3.10.11"
  }
 },
 "nbformat": 4,
 "nbformat_minor": 5
}
