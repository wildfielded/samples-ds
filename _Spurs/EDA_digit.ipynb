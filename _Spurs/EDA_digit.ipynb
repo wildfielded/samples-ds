{
 "cells": [
  {
   "cell_type": "markdown",
   "id": "fd8aa98c",
   "metadata": {},
   "source": [
    "# Разведывательный анализ данных (Exploratory Data Analysis) #"
   ]
  },
  {
   "cell_type": "markdown",
   "id": "cab78594",
   "metadata": {},
   "source": [
    "## Статистические тесты ##"
   ]
  },
  {
   "cell_type": "markdown",
   "id": "c8dd6d80",
   "metadata": {},
   "source": [
    "### Тест Шапиро-Уилка ###\n",
    "#### (Проверка нормальности распределения) ####"
   ]
  },
  {
   "cell_type": "code",
   "execution_count": 1,
   "id": "f803a93f",
   "metadata": {},
   "outputs": [
    {
     "name": "stdout",
     "output_type": "stream",
     "text": [
      "p-value = 0.41\n",
      "Распределение нормальное\n"
     ]
    }
   ],
   "source": [
    "import scipy.stats as stats\n",
    "\n",
    "alpha = 0.05\n",
    "data2 = [12, 8, 9, 10, 11, 12, 7, 12, 2, 10, 3, 9, 18, 4, 11, 13, 13, 17, 14, 3, 10, 2, 2, 7, 14, 8, 20, 5, 7, 10]\n",
    "bulk_, p = stats.shapiro(data2)\n",
    "print('p-value = %.2f' % (p))\n",
    "if p <= alpha:\n",
    "    print('Распределение не нормальное')\n",
    "else:\n",
    "    print('Распределение нормальное')"
   ]
  },
  {
   "cell_type": "markdown",
   "id": "d3012b57",
   "metadata": {},
   "source": [
    "Тест хорошо работает на выборках до 5000 объектов. Если ***p-value*** теста больше уровня значимости **$\\alpha$**, то мы считаем, что данные распределены нормально."
   ]
  },
  {
   "cell_type": "code",
   "execution_count": null,
   "id": "b5bdc95b",
   "metadata": {},
   "outputs": [],
   "source": []
  }
 ],
 "metadata": {
  "kernelspec": {
   "display_name": "Python 3",
   "language": "python",
   "name": "python3"
  },
  "language_info": {
   "codemirror_mode": {
    "name": "ipython",
    "version": 3
   },
   "file_extension": ".py",
   "mimetype": "text/x-python",
   "name": "python",
   "nbconvert_exporter": "python",
   "pygments_lexer": "ipython3",
   "version": "3.9.13"
  }
 },
 "nbformat": 4,
 "nbformat_minor": 5
}
