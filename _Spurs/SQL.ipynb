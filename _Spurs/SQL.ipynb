{
 "cells": [
  {
   "cell_type": "markdown",
   "id": "6449b03c",
   "metadata": {},
   "source": [
    "# Использование SQL #"
   ]
  },
  {
   "cell_type": "code",
   "execution_count": 2,
   "id": "b50c130e",
   "metadata": {},
   "outputs": [],
   "source": [
    "import pandas as pd\n",
    "import psycopg2\n",
    "\n",
    "# Для подавления сообщений об ошибках при обработке Pandas ответов от psycopg2\n",
    "import warnings\n",
    "warnings.filterwarnings('ignore')"
   ]
  },
  {
   "cell_type": "markdown",
   "id": "d4bbebfc",
   "metadata": {},
   "source": [
    "### Функция для отправки raw SQL-запросов в базу PostgreSQL ###"
   ]
  },
  {
   "cell_type": "code",
   "execution_count": null,
   "id": "4dfec4db",
   "metadata": {},
   "outputs": [],
   "source": []
  }
 ],
 "metadata": {
  "kernelspec": {
   "display_name": "Python 3",
   "language": "python",
   "name": "python3"
  },
  "language_info": {
   "codemirror_mode": {
    "name": "ipython",
    "version": 3
   },
   "file_extension": ".py",
   "mimetype": "text/x-python",
   "name": "python",
   "nbconvert_exporter": "python",
   "pygments_lexer": "ipython3",
   "version": "3.9.13"
  }
 },
 "nbformat": 4,
 "nbformat_minor": 5
}
