{
 "cells": [
  {
   "cell_type": "markdown",
   "id": "45ba1259",
   "metadata": {},
   "source": [
    "# Использование SQL #"
   ]
  },
  {
   "cell_type": "code",
   "execution_count": 2,
   "id": "f9c706d3",
   "metadata": {},
   "outputs": [],
   "source": [
    "import pandas as pd\n",
    "import psycopg2\n",
    "\n",
    "# Для подавления сообщений об ошибках при обработке Pandas ответов от psycopg2\n",
    "import warnings\n",
    "warnings.filterwarnings('ignore')"
   ]
  },
  {
   "cell_type": "markdown",
   "id": "2a34513f",
   "metadata": {},
   "source": [
    "### Функция make_request() для отправки raw-SQL-запросов в базу PostgreSQL ###"
   ]
  },
  {
   "cell_type": "markdown",
   "id": "d98f7dc5",
   "metadata": {},
   "source": [
    "Необходимые для подключения к БД реквизиты хранятся в отдельном модуле **`credentials.py`** для безопасности. Параметры импортируются в словарь `CONN_ATTR`, который далее используется в функции `make_request()` при запросах к базе."
   ]
  },
  {
   "cell_type": "code",
   "execution_count": null,
   "id": "898dcf03",
   "metadata": {},
   "outputs": [],
   "source": [
    "import credentials as c_\n",
    "\n",
    "CONN_ATTR = {\n",
    "    'user': c_.USER,\n",
    "    'password': c_.PASSWORD,\n",
    "    'host': c_.HOST,\n",
    "    'port': c_.PORT,\n",
    "    'dbname': c_.DBNAME\n",
    "}\n",
    "\n",
    "def make_request(query_: str) -> object:\n",
    "    ''' Делает запросы к БД с определёнными атрибутами\n",
    "    Arguments:\n",
    "        query_ [str] -- Строка или многострочник SQL-запроса\n",
    "    Returns:\n",
    "        [object] -- Ответ в виде Pandas DataFrame\n",
    "    '''\n",
    "    with psycopg2.connect(**CONN_ATTR) as conn:\n",
    "        return pd.read_sql_query(query_, conn)\n",
    "\n",
    "#####=====----- FOR EXAMPLE -----=====#####\n",
    "query_str = '''\n",
    "SELECT COUNT(*)\n",
    "FROM public.database\n",
    "'''\n",
    "display(make_request(query_str))"
   ]
  }
 ],
 "metadata": {
  "kernelspec": {
   "display_name": "Python 3",
   "language": "python",
   "name": "python3"
  },
  "language_info": {
   "codemirror_mode": {
    "name": "ipython",
    "version": 3
   },
   "file_extension": ".py",
   "mimetype": "text/x-python",
   "name": "python",
   "nbconvert_exporter": "python",
   "pygments_lexer": "ipython3",
   "version": "3.9.13"
  }
 },
 "nbformat": 4,
 "nbformat_minor": 5
}
