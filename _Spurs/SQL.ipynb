{
 "cells": [
  {
   "cell_type": "markdown",
   "id": "688683f8",
   "metadata": {},
   "source": [
    "# Использование SQL #"
   ]
  },
  {
   "cell_type": "code",
   "execution_count": 2,
   "id": "d685764b",
   "metadata": {},
   "outputs": [],
   "source": [
    "import pandas as pd\n",
    "import psycopg2\n",
    "\n",
    "# Для подавления сообщений об ошибках при обработке Pandas ответов от psycopg2\n",
    "import warnings\n",
    "warnings.filterwarnings('ignore')"
   ]
  },
  {
   "cell_type": "markdown",
   "id": "55b96a6d",
   "metadata": {},
   "source": [
    "### Функция make_request() для отправки raw-SQL-запросов в базу PostgreSQL ###"
   ]
  },
  {
   "cell_type": "markdown",
   "id": "bf2c33a7",
   "metadata": {},
   "source": [
    "Необходимые для подключения к БД реквизиты хранятся в отдельном модуле **`credentials.py`** для безопасности. Параметры импортируются в словарь `CONN_ATTR`, который далее используется в функции `make_request()` при запросах к базе."
   ]
  },
  {
   "cell_type": "code",
   "execution_count": null,
   "id": "6e2c0d8e",
   "metadata": {},
   "outputs": [],
   "source": [
    "import credentials as c_\n",
    "\n",
    "CONN_ATTR = {\n",
    "    'user': c_.USER,\n",
    "    'password': c_.PASSWORD,\n",
    "    'host': c_.HOST,\n",
    "    'port': c_.PORT,\n",
    "    'dbname': c_.DBNAME\n",
    "}\n",
    "\n",
    "#####=====----- FOR EXAMPLE -----=====#####\n",
    "query_str = '''\n",
    "SELECT COUNT(*)\n",
    "FROM public.database\n",
    "'''\n",
    "display(make_request(query_str))"
   ]
  }
 ],
 "metadata": {
  "kernelspec": {
   "display_name": "Python 3",
   "language": "python",
   "name": "python3"
  },
  "language_info": {
   "codemirror_mode": {
    "name": "ipython",
    "version": 3
   },
   "file_extension": ".py",
   "mimetype": "text/x-python",
   "name": "python",
   "nbconvert_exporter": "python",
   "pygments_lexer": "ipython3",
   "version": "3.9.13"
  }
 },
 "nbformat": 4,
 "nbformat_minor": 5
}
