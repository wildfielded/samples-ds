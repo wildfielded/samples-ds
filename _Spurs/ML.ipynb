{
 "cells": [
  {
   "cell_type": "markdown",
   "id": "6e163140-d44c-469c-afb0-905bd0acdb43",
   "metadata": {},
   "source": [
    "# Машинное обучение #"
   ]
  },
  {
   "cell_type": "code",
   "execution_count": null,
   "id": "b07a83f5-b94e-44ba-b534-8ef30990d4e3",
   "metadata": {},
   "outputs": [],
   "source": []
  }
 ],
 "metadata": {
  "kernelspec": {
   "display_name": "Python 3 (ipykernel)",
   "language": "python",
   "name": "python3"
  },
  "language_info": {
   "codemirror_mode": {
    "name": "ipython",
    "version": 3
   },
   "file_extension": ".py",
   "mimetype": "text/x-python",
   "name": "python",
   "nbconvert_exporter": "python",
   "pygments_lexer": "ipython3",
   "version": "3.10.11"
  }
 },
 "nbformat": 4,
 "nbformat_minor": 5
}
